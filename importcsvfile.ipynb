{
 "cells": [
  {
   "cell_type": "code",
   "execution_count": 1,
   "id": "bb0dae20-a8a9-4b6c-8e7a-8353989c1f56",
   "metadata": {},
   "outputs": [],
   "source": [
    "import geopandas\n"
   ]
  },
  {
   "cell_type": "code",
   "execution_count": 2,
   "id": "185ab589-09de-42c3-8d55-d5037b40d684",
   "metadata": {},
   "outputs": [],
   "source": [
    "import numpy"
   ]
  },
  {
   "cell_type": "code",
   "execution_count": 4,
   "id": "ada7be79-29bf-4d1e-b7fd-e53808710299",
   "metadata": {},
   "outputs": [],
   "source": [
    "import shapely"
   ]
  },
  {
   "cell_type": "code",
   "execution_count": 5,
   "id": "8e334956-c0ca-4a84-b2ab-c24a0d534fe4",
   "metadata": {},
   "outputs": [
    {
     "name": "stdout",
     "output_type": "stream",
     "text": [
      "Requirement already satisfied: shapely in c:\\users\\dharani\\anaconda3\\envs\\geoenvi\\lib\\site-packages (1.7.1)\n"
     ]
    }
   ],
   "source": [
    "!pip install shapely"
   ]
  },
  {
   "cell_type": "code",
   "execution_count": 6,
   "id": "5aa40972-b273-4a0a-bf75-6bebd649feed",
   "metadata": {},
   "outputs": [],
   "source": [
    "import shapely"
   ]
  },
  {
   "cell_type": "code",
   "execution_count": 12,
   "id": "5e4a9793-ef9e-48a0-9d28-4d069239edb0",
   "metadata": {},
   "outputs": [
    {
     "data": {
      "text/html": [
       "<div>\n",
       "<style scoped>\n",
       "    .dataframe tbody tr th:only-of-type {\n",
       "        vertical-align: middle;\n",
       "    }\n",
       "\n",
       "    .dataframe tbody tr th {\n",
       "        vertical-align: top;\n",
       "    }\n",
       "\n",
       "    .dataframe thead th {\n",
       "        text-align: right;\n",
       "    }\n",
       "</style>\n",
       "<table border=\"1\" class=\"dataframe\">\n",
       "  <thead>\n",
       "    <tr style=\"text-align: right;\">\n",
       "      <th></th>\n",
       "      <th>Pondid</th>\n",
       "      <th>ImageDate</th>\n",
       "      <th>Latitude</th>\n",
       "      <th>Longitude</th>\n",
       "      <th>TileId</th>\n",
       "    </tr>\n",
       "  </thead>\n",
       "  <tbody>\n",
       "    <tr>\n",
       "      <th>0</th>\n",
       "      <td>6883aebc-b7e1-4c70-93d5-322fb3281660</td>\n",
       "      <td>20220614</td>\n",
       "      <td>16.002473</td>\n",
       "      <td>81.087893</td>\n",
       "      <td>T44PMC</td>\n",
       "    </tr>\n",
       "    <tr>\n",
       "      <th>1</th>\n",
       "      <td>2bff34c7-4681-43e4-8af0-9fcca7202a76</td>\n",
       "      <td>20220614</td>\n",
       "      <td>16.009615</td>\n",
       "      <td>81.086018</td>\n",
       "      <td>T44PMC</td>\n",
       "    </tr>\n",
       "    <tr>\n",
       "      <th>2</th>\n",
       "      <td>f1fb089b-2fba-47d8-bbbe-ae93c20b370f</td>\n",
       "      <td>20220614</td>\n",
       "      <td>16.006209</td>\n",
       "      <td>81.073922</td>\n",
       "      <td>T44PMC</td>\n",
       "    </tr>\n",
       "    <tr>\n",
       "      <th>3</th>\n",
       "      <td>342d1083-9ade-4a30-8824-b282da4c0257</td>\n",
       "      <td>20220614</td>\n",
       "      <td>16.008132</td>\n",
       "      <td>81.083591</td>\n",
       "      <td>T44PMC</td>\n",
       "    </tr>\n",
       "    <tr>\n",
       "      <th>4</th>\n",
       "      <td>2a5ccd38-636c-454f-89fd-56cefe11d886</td>\n",
       "      <td>20220614</td>\n",
       "      <td>16.005196</td>\n",
       "      <td>81.081972</td>\n",
       "      <td>T44PMC</td>\n",
       "    </tr>\n",
       "  </tbody>\n",
       "</table>\n",
       "</div>"
      ],
      "text/plain": [
       "                                 Pondid  ImageDate   Latitude  Longitude  \\\n",
       "0  6883aebc-b7e1-4c70-93d5-322fb3281660   20220614  16.002473  81.087893   \n",
       "1  2bff34c7-4681-43e4-8af0-9fcca7202a76   20220614  16.009615  81.086018   \n",
       "2  f1fb089b-2fba-47d8-bbbe-ae93c20b370f   20220614  16.006209  81.073922   \n",
       "3  342d1083-9ade-4a30-8824-b282da4c0257   20220614  16.008132  81.083591   \n",
       "4  2a5ccd38-636c-454f-89fd-56cefe11d886   20220614  16.005196  81.081972   \n",
       "\n",
       "   TileId  \n",
       "0  T44PMC  \n",
       "1  T44PMC  \n",
       "2  T44PMC  \n",
       "3  T44PMC  \n",
       "4  T44PMC  "
      ]
     },
     "execution_count": 12,
     "metadata": {},
     "output_type": "execute_result"
    }
   ],
   "source": [
    "import pandas as pd\n",
    "df=pd.read_csv(\"C:/Users/Dharani/Documents/Muchilipatam1.csv\")\n",
    "df.head()"
   ]
  },
  {
   "cell_type": "code",
   "execution_count": 15,
   "id": "6bcdfd32-a87e-469a-ac51-0b527c641df0",
   "metadata": {},
   "outputs": [
    {
     "data": {
      "text/plain": [
       "(1497, 5)"
      ]
     },
     "execution_count": 15,
     "metadata": {},
     "output_type": "execute_result"
    }
   ],
   "source": [
    "df.shape"
   ]
  },
  {
   "cell_type": "code",
   "execution_count": null,
   "id": "7cb1f4d5-7720-4efd-9be7-5ed11d3b59d9",
   "metadata": {},
   "outputs": [],
   "source": []
  }
 ],
 "metadata": {
  "kernelspec": {
   "display_name": "Python 3 (ipykernel)",
   "language": "python",
   "name": "python3"
  },
  "language_info": {
   "codemirror_mode": {
    "name": "ipython",
    "version": 3
   },
   "file_extension": ".py",
   "mimetype": "text/x-python",
   "name": "python",
   "nbconvert_exporter": "python",
   "pygments_lexer": "ipython3",
   "version": "3.9.12"
  }
 },
 "nbformat": 4,
 "nbformat_minor": 5
}
